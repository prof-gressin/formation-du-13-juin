{
 "cells": [
  {
   "cell_type": "markdown",
   "metadata": {},
   "source": [
    "# Communication python arduino\n",
    "Reprise de la formation à Apollinaire"
   ]
  },
  {
   "cell_type": "markdown",
   "metadata": {},
   "source": [
    "### programme pour le arduino\n",
    "void setup () {\n",
    "Seriel.begin(9600);\n",
    "}\n",
    "\n",
    "Void loop() {\n",
    "Serial.println(ramdom(1,100));\n",
    "delay(500);\n",
    "}"
   ]
  },
  {
   "cell_type": "markdown",
   "metadata": {},
   "source": [
    "### Programme pour assurer la communication avec arduino et vérifier le fonctionnement\n",
    "Avant de le faire tourner vérifier sur quel port est brancher l'arduino"
   ]
  },
  {
   "cell_type": "code",
   "execution_count": 2,
   "metadata": {},
   "outputs": [
    {
     "name": "stdout",
     "output_type": "stream",
     "text": [
      "problème port série\n"
     ]
    }
   ],
   "source": [
    "import serial\n",
    "\n",
    "try:\n",
    "    liaison = serial.Serial('COM5',9600)\n",
    "    print(\"Liaison établie\")\n",
    "    for i in range (50):\n",
    "        print(liaison.readline())\n",
    "    print(\"fin de l'acquisition\")\n",
    "    liaison.close()\n",
    "except:\n",
    "    print(\"problème port série\")"
   ]
  },
  {
   "cell_type": "markdown",
   "metadata": {},
   "source": [
    "## simulation d'acquisition avec gestion du temps"
   ]
  },
  {
   "cell_type": "markdown",
   "metadata": {},
   "source": [
    "### Programme arduino\n",
    "\n",
    "float delta_t = 0.5;\n",
    "float temps = 0;\n",
    "\n",
    "void setup () {\n",
    "Seriel.begin(9600);\n",
    "}\n",
    "\n",
    "Void loop() {\n",
    "Serial.println(ramdom(1,100));\n",
    "Serial.print(\"\\t\");\n",
    "Serial.println(temps);\n",
    "delay(1000 * delta_t);\n",
    "temps = temps + delta_t;\n",
    "}"
   ]
  },
  {
   "cell_type": "markdown",
   "metadata": {},
   "source": [
    "### programme python "
   ]
  },
  {
   "cell_type": "code",
   "execution_count": null,
   "metadata": {},
   "outputs": [],
   "source": [
    "try:\n",
    "    liaison = serial.Serial('COM5',9600)\n",
    "    print(\"Liaison établie\")\n",
    "    for i in range (10):\n",
    "        Valeur = liaison.readline()\n",
    "        print(Valeur)\n",
    "        print(type(Valeur))\n",
    "        Valeur = Valeur.strip()\n",
    "        print(Valeur)\n",
    "        print(type(Valeur))\n",
    "        Valeur = Valeur.split()\n",
    "        print(Valeur)\n",
    "        print(type(Valeur))\n",
    "        print(Valeur[0])\n",
    "        print(Valeur[1])\n",
    "    liaison.close()\n",
    "except:\n",
    "    print(\"problème port série\")"
   ]
  },
  {
   "cell_type": "code",
   "execution_count": null,
   "metadata": {},
   "outputs": [],
   "source": [
    "try:\n",
    "    liaison = serial.Serial('COM5',9600)\n",
    "    print(\"Liaison établie\")\n",
    "    for i in range (10):\n",
    "        Valeur = liaison.readline().decode().strip().split()\n",
    "        print(Valeur[0])\n",
    "        print(Valeur[1])\n",
    "    liaison.close()\n",
    "except:\n",
    "    print(\"problème port série\")"
   ]
  },
  {
   "cell_type": "markdown",
   "metadata": {},
   "source": [
    "## acquisition d'un port analogique avec gestion du temps"
   ]
  },
  {
   "cell_type": "markdown",
   "metadata": {},
   "source": [
    "### Programme arduino\n",
    "\n",
    "float delta_t = 0.5;\n",
    "float temps = 0;\n",
    "float Unumerique;\n",
    "\n",
    "void setup () {\n",
    "Seriel.begin(9600);\n",
    "}\n",
    "\n",
    "Void loop() {\n",
    "Unumerique = analogRead(A0)\n",
    "Serial.println(Unumerique);\n",
    "Serial.print(\"\\t\");\n",
    "Serial.println(temps);\n",
    "delay(1000 * delta_t);\n",
    "temps = temps + delta_t;\n",
    "}"
   ]
  },
  {
   "cell_type": "code",
   "execution_count": null,
   "metadata": {},
   "outputs": [],
   "source": [
    "import matplotlib.pyplot as plt\n",
    "\n",
    "try:\n",
    "    liaison = serial.Serial('COM5',9600)\n",
    "    print(\"Liaison établie\")\n",
    "    Temps = []\n",
    "    Grandeur = []\n",
    "    for i in range (200):\n",
    "        Valeur = liaison.readline().decode().strip().split()\n",
    "        Temps.append(float(Valeur[1]))\n",
    "        Grandeur.append(float(Valeur[0]))\n",
    "        print(Temps)\n",
    "        print(Grandeur)\n",
    "    liaison.close()\n",
    "    print(\"Fin de l'acquisition\")\n",
    "except:\n",
    "    print(\"problème port série\")\n",
    "\n",
    "try :\n",
    "    plt.figure(1)\n",
    "    plt.clf()\n",
    "    plt.xlabel(\"Temps (s)\")\n",
    "    plt.ylabel(\"Grandeur\")\n",
    "    plt.xlim(0,1.1*max(Temps))\n",
    "    plt.ylim(0.8*min(Grandeur),1.1*max(Grandeur))\n",
    "    plt.grid()\n",
    "    plt.legend(loc='best')\n",
    "    plt.plt(Temps, Grandeur,'r-',label =\"Evolution au cours du temps\")\n",
    "    plt.legend(loc='best')\n",
    "    plt.show()\n",
    "    plt.savefig(\"Luminosité.pdf\")\n",
    "except:\n",
    "    print(\"Graphique non traçable\")"
   ]
  }
 ],
 "metadata": {
  "kernelspec": {
   "display_name": "Python 3",
   "language": "python",
   "name": "python3"
  },
  "language_info": {
   "codemirror_mode": {
    "name": "ipython",
    "version": 3
   },
   "file_extension": ".py",
   "mimetype": "text/x-python",
   "name": "python",
   "nbconvert_exporter": "python",
   "pygments_lexer": "ipython3",
   "version": "3.6.8"
  }
 },
 "nbformat": 4,
 "nbformat_minor": 2
}
